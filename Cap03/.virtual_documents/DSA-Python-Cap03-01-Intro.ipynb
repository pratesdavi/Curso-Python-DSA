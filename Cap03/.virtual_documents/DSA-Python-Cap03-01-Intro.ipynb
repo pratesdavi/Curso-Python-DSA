# Vensão da Linguagem Python
from platform import python_version
version = python_version()
print(f'Versão da Linguagem Python Usada Neste Jupyter Notebook é a {version}')











print('Bem-vindo ao calculador de área de paralelograma!')


base = float(input('insira o comprimento da base: '))


altera = float(input('insira a altura: '))


area = base * altura


print('A área do paralelogramo é: ', area)



