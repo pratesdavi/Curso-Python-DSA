{
 "cells": [
  {
   "cell_type": "code",
   "execution_count": 5,
   "id": "56ca4e3a-c2a9-494b-aaaa-3e09337837c8",
   "metadata": {},
   "outputs": [
    {
     "name": "stdout",
     "output_type": "stream",
     "text": [
      "Versão da Linguagem Python Usada Neste Jupyter Notebook é a 3.12.7\n"
     ]
    }
   ],
   "source": [
    "# Vensão da Linguagem Python\n",
    "from platform import python_version\n",
    "version = python_version()\n",
    "print(f'Versão da Linguagem Python Usada Neste Jupyter Notebook é a {version}')"
   ]
  },
  {
   "cell_type": "markdown",
   "id": "a545004c-e1fe-4972-a788-e18d4cfbad96",
   "metadata": {},
   "source": [
    "### Pseudocódigo 1 - Calcular a Área de Um Paralelogramo\n",
    "\n",
    "Nota: Um paralelogramo é um quadrilátero com lados opostos paralelos (e portanto ângulos opostos iguais). Um quadrilátero com lados iguais é chamado de losango e um paralelogramo cujos ângulos são todos ângulos retos é chamado de retângulo."
   ]
  },
  {
   "cell_type": "markdown",
   "id": "670f416b-161a-4893-90e8-22299af1ba6b",
   "metadata": {},
   "source": [
    "Inicie\n",
    "    \n",
    "    Exiba \"Bem-vindo ao Calculador de Área de Paralelogramo\"\n",
    "    Peça para o usuário inserir o comprimento da base\n",
    "    Armazene o comprimento da base em uma variável\n",
    "    Peça para o usuário inserir a altura\n",
    "    Armazene a altura em uma variável\n",
    "    Calcule a área do paralelogramo:  base * altura\n",
    "    Armazene o resultado em uma variável\n",
    "    Exiba o resultado\n",
    "    \n",
    "Fim"
   ]
  },
  {
   "cell_type": "markdown",
   "id": "e7f6e0e3-56a7-47c6-86ff-89ff68252ede",
   "metadata": {},
   "source": [
    "## CONVERTENDO O PSEUDOCÓDIGO 1 EM PROGRAMA PYTHON"
   ]
  },
  {
   "cell_type": "code",
   "execution_count": 1,
   "id": "6a908db9-e3e9-4a47-a451-df061f0c1f07",
   "metadata": {},
   "outputs": [
    {
     "name": "stdout",
     "output_type": "stream",
     "text": [
      "Bem-vindo ao calculador de área de paralelograma!\n"
     ]
    }
   ],
   "source": [
    "print('Bem-vindo ao calculador de área de paralelograma!')"
   ]
  },
  {
   "cell_type": "code",
   "execution_count": 3,
   "id": "387d41c2-b15c-4eb3-b78a-287f36744845",
   "metadata": {},
   "outputs": [
    {
     "name": "stdin",
     "output_type": "stream",
     "text": [
      "insira o comprimento da base:  192\n"
     ]
    }
   ],
   "source": [
    "base = float(input('insira o comprimento da base: '))"
   ]
  },
  {
   "cell_type": "code",
   "execution_count": null,
   "id": "59b9947f-7252-4c85-87ef-d7169afdee87",
   "metadata": {},
   "outputs": [],
   "source": [
    "altera = float(input('insira a altura: '))"
   ]
  },
  {
   "cell_type": "code",
   "execution_count": null,
   "id": "78ddf489-5cc1-48d3-843b-8f2f82f00336",
   "metadata": {},
   "outputs": [],
   "source": [
    "area = base * altura"
   ]
  },
  {
   "cell_type": "code",
   "execution_count": null,
   "id": "f0770918-d058-437c-981f-25b9d6706acd",
   "metadata": {},
   "outputs": [],
   "source": [
    "print('A área do paralelogramo é: ', area)"
   ]
  },
  {
   "cell_type": "code",
   "execution_count": null,
   "id": "1355eb01-270c-4f87-acce-017d57a06a61",
   "metadata": {},
   "outputs": [],
   "source": []
  }
 ],
 "metadata": {
  "kernelspec": {
   "display_name": "Python 3 (ipykernel)",
   "language": "python",
   "name": "python3"
  },
  "language_info": {
   "codemirror_mode": {
    "name": "ipython",
    "version": 3
   },
   "file_extension": ".py",
   "mimetype": "text/x-python",
   "name": "python",
   "nbconvert_exporter": "python",
   "pygments_lexer": "ipython3",
   "version": "3.12.7"
  }
 },
 "nbformat": 4,
 "nbformat_minor": 5
}
