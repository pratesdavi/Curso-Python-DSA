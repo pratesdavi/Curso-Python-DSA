{
 "cells": [
  {
   "cell_type": "code",
   "execution_count": 13,
   "id": "56ca4e3a-c2a9-494b-aaaa-3e09337837c8",
   "metadata": {},
   "outputs": [
    {
     "name": "stdout",
     "output_type": "stream",
     "text": [
      "Versão da Linguagem Python Usada Neste Jupyter Notebook é a 3.12.7\n"
     ]
    }
   ],
   "source": [
    "# Vensão da Linguagem Python\n",
    "from platform import python_version\n",
    "version = python_version()\n",
    "print(f'Versão da Linguagem Python Usada Neste Jupyter Notebook é a {version}')"
   ]
  },
  {
   "cell_type": "markdown",
   "id": "a545004c-e1fe-4972-a788-e18d4cfbad96",
   "metadata": {},
   "source": [
    "## Pseudocódigo 1 - Calcular a Área de Um Paralelogramo\n",
    "\n",
    "Nota: Um paralelogramo é um quadrilátero com lados opostos paralelos (e portanto ângulos opostos iguais). Um quadrilátero com lados iguais é chamado de losango e um paralelogramo cujos ângulos são todos ângulos retos é chamado de retângulo."
   ]
  },
  {
   "cell_type": "markdown",
   "id": "670f416b-161a-4893-90e8-22299af1ba6b",
   "metadata": {},
   "source": [
    "Inicie\n",
    "    \n",
    "    Exiba \"Bem-vindo ao Calculador de Área de Paralelogramo\"\n",
    "    Peça para o usuário inserir o comprimento da base\n",
    "    Armazene o comprimento da base em uma variável\n",
    "    Peça para o usuário inserir a altura\n",
    "    Armazene a altura em uma variável\n",
    "    Calcule a área do paralelogramo:  base * altura\n",
    "    Armazene o resultado em uma variável\n",
    "    Exiba o resultado\n",
    "    \n",
    "Fim"
   ]
  },
  {
   "cell_type": "markdown",
   "id": "e7f6e0e3-56a7-47c6-86ff-89ff68252ede",
   "metadata": {},
   "source": [
    "### CONVERTENDO O PSEUDOCÓDIGO 1 EM PROGRAMA PYTHON"
   ]
  },
  {
   "cell_type": "code",
   "execution_count": 14,
   "id": "6a908db9-e3e9-4a47-a451-df061f0c1f07",
   "metadata": {},
   "outputs": [
    {
     "name": "stdout",
     "output_type": "stream",
     "text": [
      "Bem-vindo ao calculador de área de paralelograma!\n"
     ]
    }
   ],
   "source": [
    "print('Bem-vindo ao calculador de área de paralelograma!')"
   ]
  },
  {
   "cell_type": "code",
   "execution_count": 16,
   "id": "387d41c2-b15c-4eb3-b78a-287f36744845",
   "metadata": {},
   "outputs": [
    {
     "name": "stdin",
     "output_type": "stream",
     "text": [
      "insira o comprimento da base:  4\n"
     ]
    }
   ],
   "source": [
    "base = float(input('insira o comprimento da base: '))"
   ]
  },
  {
   "cell_type": "code",
   "execution_count": 17,
   "id": "59b9947f-7252-4c85-87ef-d7169afdee87",
   "metadata": {},
   "outputs": [
    {
     "name": "stdin",
     "output_type": "stream",
     "text": [
      "insira a altura:  6\n"
     ]
    }
   ],
   "source": [
    "altura = float(input('insira a altura: '))"
   ]
  },
  {
   "cell_type": "code",
   "execution_count": 18,
   "id": "78ddf489-5cc1-48d3-843b-8f2f82f00336",
   "metadata": {},
   "outputs": [],
   "source": [
    "area = base * altura"
   ]
  },
  {
   "cell_type": "code",
   "execution_count": 20,
   "id": "f0770918-d058-437c-981f-25b9d6706acd",
   "metadata": {},
   "outputs": [
    {
     "name": "stdout",
     "output_type": "stream",
     "text": [
      "A área do paralelogramo é: 24.0\n"
     ]
    }
   ],
   "source": [
    "print(f'A área do paralelogramo é: {area}')"
   ]
  },
  {
   "cell_type": "markdown",
   "id": "c09d46da-848d-4f42-a536-570f1a068d6f",
   "metadata": {},
   "source": []
  },
  {
   "cell_type": "markdown",
   "id": "0c78bded-1b09-4de5-9f2b-5b76cbd4f07e",
   "metadata": {},
   "source": [
    "## Pseudocódigo 2 - Calculadora simples\n",
    "\n",
    "Nota: Um paralelogramo é um quadrilátero com lados opostos paralelos (e portanto ângulos opostos iguais). Um quadrilátero com lados iguais é chamado de losango e um paralelogramo cujos ângulos são todos ângulos retos é chamado de retângulo."
   ]
  },
  {
   "cell_type": "markdown",
   "id": "94a250f2-95ac-46f5-ac50-63bf844ee80d",
   "metadata": {},
   "source": [
    "Inicie\n",
    "    \n",
    "    1. Exiba \"Bem-vindo à Calculadora!\"\n",
    "    2. Peça para o usuário digitar o primeiro número\n",
    "    3. Armazene o primeiro número em uma variável\n",
    "    4. Peça para o usuário digitar o segundo número\n",
    "    5. Armazene o segundo número em uma variável\n",
    "    6. Peça ao usuário selecionar uma operação ( + , - , * , / )\n",
    "    7. Armazena a operação em uma variável\n",
    "    8. Utilize a operação selecionada e os números para realizar o calulo\n",
    "    9. Exiba o resultado.\n",
    "    \n",
    "Fim"
   ]
  },
  {
   "cell_type": "code",
   "execution_count": 83,
   "id": "f9dee3ce-508e-4d51-8505-6c405543fb18",
   "metadata": {},
   "outputs": [
    {
     "name": "stdin",
     "output_type": "stream",
     "text": [
      "QUAL O NOME DO ALUNO? Davizinho\n",
      "QUAL A NOTA DO ALUNO:  5\n"
     ]
    },
    {
     "name": "stdout",
     "output_type": "stream",
     "text": [
      "Davizinho, fique alerta, sua nota está mediana!\n"
     ]
    }
   ],
   "source": [
    "nome_do_aluno = input('QUAL O NOME DO ALUNO?')\n",
    "nota_do_aluno = int(input('QUAL A NOTA DO ALUNO: '))\n",
    "\n",
    "if nota_do_aluno == 10:\n",
    "    print(f'Parabéns, {nome_do_aluno}, sua nota está ótima!')\n",
    "if nota_do_aluno < 10:\n",
    "    print(f'{nome_do_aluno}, fique alerta, sua nota está mediana!')\n",
    "if nota_do_aluno < 5:\n",
    "    print(f'{nome_do_aluno}, voce precisa prestar atenção URGENTE. Sua nota está negativa!')"
   ]
  },
  {
   "cell_type": "code",
   "execution_count": 38,
   "id": "7a795715-4913-49ea-8bc5-fa1602f90af2",
   "metadata": {},
   "outputs": [
    {
     "name": "stdin",
     "output_type": "stream",
     "text": [
      "digite o primeiro número para o calculo:  10\n"
     ]
    }
   ],
   "source": [
    "num1 = float(input('digite o primeiro número para o calculo: '))"
   ]
  },
  {
   "cell_type": "code",
   "execution_count": 44,
   "id": "01aafd1e-f975-42bd-99b2-0ef9a18d152b",
   "metadata": {},
   "outputs": [
    {
     "name": "stdin",
     "output_type": "stream",
     "text": [
      "operador +\n"
     ]
    }
   ],
   "source": [
    "oper = bool(input('operador'))"
   ]
  },
  {
   "cell_type": "code",
   "execution_count": 45,
   "id": "208bf0ed-6779-4e57-ba17-1a694dec8556",
   "metadata": {},
   "outputs": [
    {
     "name": "stdin",
     "output_type": "stream",
     "text": [
      "digite o segundo número para o calculo:  9\n"
     ]
    }
   ],
   "source": [
    "num2 = float(input('digite o segundo número para o calculo: '))"
   ]
  },
  {
   "cell_type": "code",
   "execution_count": 46,
   "id": "ba542e24-49d7-439f-88e6-68837dde0918",
   "metadata": {},
   "outputs": [],
   "source": [
    "result = num1 - num2"
   ]
  },
  {
   "cell_type": "code",
   "execution_count": 47,
   "id": "15bf39ed-b1b2-46bf-8bad-67e787835716",
   "metadata": {},
   "outputs": [
    {
     "name": "stdout",
     "output_type": "stream",
     "text": [
      "1.0\n"
     ]
    }
   ],
   "source": [
    "while (oper == '-'):\n",
    "    num1 - num2\n",
    "    oper = oper + 1\n",
    "else:\n",
    "    print(result)"
   ]
  },
  {
   "cell_type": "code",
   "execution_count": 90,
   "id": "ebcb78d5-0d01-4c41-8fa7-30ed9feff76e",
   "metadata": {},
   "outputs": [
    {
     "name": "stdin",
     "output_type": "stream",
     "text": [
      "digite um número:  100\n"
     ]
    },
    {
     "name": "stdout",
     "output_type": "stream",
     "text": [
      "O número deve ter 3 dígitos\n"
     ]
    },
    {
     "name": "stdin",
     "output_type": "stream",
     "text": [
      "digite um número:  101\n"
     ]
    },
    {
     "name": "stdout",
     "output_type": "stream",
     "text": [
      "O número deve ter 3 dígitos\n"
     ]
    },
    {
     "name": "stdin",
     "output_type": "stream",
     "text": [
      "digite um número:  1313\n"
     ]
    }
   ],
   "source": [
    "while True:\n",
    "    try:\n",
    "        n = int(input('digite um número: '))\n",
    "        if n < 100 or n > 999:\n",
    "                break\n",
    "        print('O número deve ter 3 dígitos')\n",
    "    except ValueError:\n",
    "        print('Não foi digitado um número')"
   ]
  }
 ],
 "metadata": {
  "kernelspec": {
   "display_name": "Python 3 (ipykernel)",
   "language": "python",
   "name": "python3"
  },
  "language_info": {
   "codemirror_mode": {
    "name": "ipython",
    "version": 3
   },
   "file_extension": ".py",
   "mimetype": "text/x-python",
   "name": "python",
   "nbconvert_exporter": "python",
   "pygments_lexer": "ipython3",
   "version": "3.12.7"
  }
 },
 "nbformat": 4,
 "nbformat_minor": 5
}
