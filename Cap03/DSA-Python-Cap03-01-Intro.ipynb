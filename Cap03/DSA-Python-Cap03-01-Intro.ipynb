{
 "cells": [
  {
   "cell_type": "code",
   "execution_count": 5,
   "id": "56ca4e3a-c2a9-494b-aaaa-3e09337837c8",
   "metadata": {},
   "outputs": [
    {
     "name": "stdout",
     "output_type": "stream",
     "text": [
      "Versão da Linguagem Python Usada Neste Jupyter Notebook é a 3.12.7\n"
     ]
    }
   ],
   "source": [
    "# Vensão da Linguagem Python\n",
    "from platform import python_version\n",
    "version = python_version()\n",
    "print(f'Versão da Linguagem Python Usada Neste Jupyter Notebook é a {version}')"
   ]
  },
  {
   "cell_type": "markdown",
   "id": "a545004c-e1fe-4972-a788-e18d4cfbad96",
   "metadata": {},
   "source": [
    "### Pseudocódigo 1 - Calcular a Área de Um Paralelogramo\n",
    "\n",
    "nota: um paralelogramo é um quadrilátero com lados opostos paralelos (e portanto ângulo opostos iguais). Um dadrilátero com lados iguais é chamado de losangolo e um paralelogramo cujos ângulos são todos retos é chamado de retângulo."
   ]
  }
 ],
 "metadata": {
  "kernelspec": {
   "display_name": "Python 3 (ipykernel)",
   "language": "python",
   "name": "python3"
  },
  "language_info": {
   "codemirror_mode": {
    "name": "ipython",
    "version": 3
   },
   "file_extension": ".py",
   "mimetype": "text/x-python",
   "name": "python",
   "nbconvert_exporter": "python",
   "pygments_lexer": "ipython3",
   "version": "3.12.7"
  }
 },
 "nbformat": 4,
 "nbformat_minor": 5
}
