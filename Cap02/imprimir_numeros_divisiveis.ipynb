{
 "cells": [
  {
   "cell_type": "markdown",
   "id": "a9e65cdb-0b27-4615-b63d-da1b56d67e59",
   "metadata": {},
   "source": [
    "1. Gere um código Python que crie uma lista com os números entre 1 e 100 e entao imprma os números pares, mas somente se o número for divisível por 4."
   ]
  },
  {
   "cell_type": "code",
   "execution_count": 15,
   "id": "11d779c6-e2d9-42da-a561-03df5e604a48",
   "metadata": {},
   "outputs": [
    {
     "name": "stdout",
     "output_type": "stream",
     "text": [
      "4\n",
      "8\n",
      "12\n",
      "16\n",
      "20\n",
      "24\n",
      "28\n",
      "32\n",
      "36\n",
      "40\n",
      "44\n",
      "48\n",
      "52\n",
      "56\n",
      "60\n",
      "64\n",
      "68\n",
      "72\n",
      "76\n",
      "80\n",
      "84\n",
      "88\n",
      "92\n",
      "96\n",
      "100\n"
     ]
    }
   ],
   "source": [
    "# Cria uma lista com os números entre 1 e 100\n",
    "numeros = list(range(1, 101))\n",
    "\n",
    "# Percorre a lista e verifica se o numero é par e divisível por 4\n",
    "for numero in numeros:\n",
    "    if numero % 2 == 0 and numero % 4 == 0:\n",
    "        print(numero)"
   ]
  },
  {
   "cell_type": "markdown",
   "id": "b0222c2e-1e9d-41f1-9947-04b16bbcc3ba",
   "metadata": {},
   "source": [
    "2. Gere código Python que crie uma lista com os números entre 1 e 100 e então imprima os numeros pares, mas somente se o números for divisível por 4, usando o list comprehension."
   ]
  },
  {
   "cell_type": "code",
   "execution_count": 18,
   "id": "d19167c4-4ea1-4815-9e4a-7e0fd19f1ef1",
   "metadata": {},
   "outputs": [
    {
     "name": "stdout",
     "output_type": "stream",
     "text": [
      "[4, 8, 12, 16, 20, 24, 28, 32, 36, 40, 44, 48, 52, 56, 60, 64, 68, 72, 76, 80, 84, 88, 92, 96, 100]\n"
     ]
    }
   ],
   "source": [
    "# Crie uma lista com os números entre 1 e 100\n",
    "numeros = list(range(1, 101))\n",
    "\n",
    "# Usa a list comprehension para gerar uma lista somente com os números pares e divisíveis por 4\n",
    "pares_div4 = [numero for numero in numeros if numero % 2 == 0 and numero % 4 == 0]\n",
    "\n",
    "# Imprime a lista gerada\n",
    "print(pares_div4)"
   ]
  }
 ],
 "metadata": {
  "kernelspec": {
   "display_name": "Python 3 (ipykernel)",
   "language": "python",
   "name": "python3"
  },
  "language_info": {
   "codemirror_mode": {
    "name": "ipython",
    "version": 3
   },
   "file_extension": ".py",
   "mimetype": "text/x-python",
   "name": "python",
   "nbconvert_exporter": "python",
   "pygments_lexer": "ipython3",
   "version": "3.12.7"
  }
 },
 "nbformat": 4,
 "nbformat_minor": 5
}
